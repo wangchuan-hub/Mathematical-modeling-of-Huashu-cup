{
 "cells": [
  {
   "cell_type": "code",
   "execution_count": 1,
   "id": "ff4242dd",
   "metadata": {},
   "outputs": [],
   "source": [
    "import pandas as pd\n",
    "import numpy as np\n",
    "import matplotlib.pyplot as plt"
   ]
  },
  {
   "cell_type": "code",
   "execution_count": 2,
   "id": "baa06415",
   "metadata": {},
   "outputs": [],
   "source": [
    "# 数据预处理\n",
    "def parse_file():\n",
    "    data = pd.read_excel(\"目标客户体验数据.xlsx\")\n",
    "    # 缺失值处理\n",
    "    data[\"B7\"]=data[\"B7\"].replace(np.nan,0)\n",
    "    data.loc[(data[\"B6\"]==5) & (data[\"B7\"]==0),\"B7\"]=1\n",
    "    data.loc[(data[\"B6\"]==6) & (data[\"B7\"]==0),\"B7\"]=1\n",
    "    data.loc[(data[\"B6\"]==7) & (data[\"B7\"]==0),\"B7\"]=1\n",
    "    # 异常值处理\n",
    "    data.drop(data[(data.B14 > data.B13) | (data.B15 > data.B13)].index, inplace=True)\n",
    "    data.loc[data[\"a1\"] > 100,\"a1\"] = data[\"a1\"].mean()\n",
    "    data.loc[data[\"a3\"] > 100,\"a3\"] = data[\"a3\"].mean()\n",
    "    data.loc[data[\"a5\"] > 100,\"a5\"] = data[\"a5\"].mean()\n",
    "    data.loc[data.B17 > 100,\"B17\"] = data.B17.mean()\n",
    "    return data"
   ]
  },
  {
   "cell_type": "code",
   "execution_count": 3,
   "id": "96bc8b57",
   "metadata": {},
   "outputs": [],
   "source": [
    "# 描述性统计\n",
    "def describe_statistics(data):\n",
    "    # 按连续型，离散型数据更改特征顺序\n",
    "    data_deal_123 = data.reindex(columns=[\"目标客户编号\",\"品牌类型\",\"a1\",\"a2\",\"a3\",\"a4\",\"a5\",\"a6\",\"a7\",\"a8\",\n",
    "                     \"B2\",\"B4\",\"B10\",\"B13\",\"B14\",\"B15\",\"B16\",\"B17\",\"B1\",\"B3\",\"B6\",\n",
    "                      \"B9\",\"B11\",\"B12\",\"B5\",\"B7\",\"B8\",\"购买意愿\"])\n",
    "    # 按品牌分类\n",
    "    data_deal_1 = data_deal_123[data_deal_123[\"品牌类型\"]==1].round(2)\n",
    "    data_deal_2 = data_deal_123[data_deal_123[\"品牌类型\"]==2].round(2)\n",
    "    data_deal_3 = data_deal_123[data_deal_123[\"品牌类型\"]==3].round(2)\n",
    "    return data_deal_1,data_deal_2,data_deal_3"
   ]
  },
  {
   "cell_type": "code",
   "execution_count": 4,
   "id": "ced89bb2",
   "metadata": {},
   "outputs": [],
   "source": [
    "# 集中趋势\n",
    "def central_tendency(data):\n",
    "    mean = pd.DataFrame(data.mean().round(2)).T\n",
    "    median = pd.DataFrame(data.median()).T\n",
    "    mode = pd.DataFrame(data.mode().loc[0,:]).T\n",
    "    df = [mean,median,mode]\n",
    "    data_describe = pd.concat(df)\n",
    "    return data_describe"
   ]
  },
  {
   "cell_type": "code",
   "execution_count": 5,
   "id": "4e9712b9",
   "metadata": {},
   "outputs": [],
   "source": [
    "# 离散趋势\n",
    "def dispersion(data):\n",
    "    # 全距\n",
    "    all_distance = data.max() - data.min()\n",
    "    # 四分位差\n",
    "    quantile_lst = []\n",
    "    for col in data.columns:\n",
    "        mean_25 = data[col].quantile(q=0.25)\n",
    "        mean_75 = data[col].quantile(q=0.75)\n",
    "        quantile = mean_75 - mean_25\n",
    "        quantile_lst_.append(quantile)\n",
    "    # 标准差    \n",
    "    std = data.std()\n",
    "    # 方差 \n",
    "    var = data.var()\n",
    "    df_all_distance = pd.DataFrame(all_distance).T\n",
    "    df_std = pd.DataFrame(std).T\n",
    "    df_var = pd.DataFrame(var).T\n",
    "    df_quantile_lst = pd.DataFrame(quantile_lst,index=(\"目标客户编号\",\"品牌类型\",\"a1\",\"a2\",\"a3\",\"a4\",\"a5\",\"a6\",\"a7\",\"a8\",\n",
    "                         \"B2\",\"B4\",\"B10\",\"B13\",\"B14\",\"B15\",\"B16\",\"B17\",\"B1\",\"B3\",\"B6\",\n",
    "                          \"B9\",\"B11\",\"B12\",\"B5\",\"B7\",\"B8\",\"购买意愿\")).T\n",
    "\n",
    "    df_dis = [df_all_distance,df_quantile_lst,df_std,df_var]\n",
    "    data_dis_describe = pd.concat(df_dis)\n",
    "    return data_dis_describe"
   ]
  },
  {
   "cell_type": "code",
   "execution_count": 6,
   "id": "4bcd7511",
   "metadata": {},
   "outputs": [],
   "source": [
    "# 满意度统计\n",
    "def satisfaction_rate(data):\n",
    "    a_list = [\"a1\",\"a2\",\"a3\",\"a4\",\"a5\",\"a6\",\"a7\",\"a8\"]\n",
    "    \n",
    "    down_60 = []\n",
    "    for i in a_list:\n",
    "        down_60_rate = len(data[data.loc[:,i] < 60 ]) / len(data)\n",
    "        down_60.append(down_60_rate)\n",
    "\n",
    "    up_90 = []\n",
    "    for i in a_list:\n",
    "        up_90_rate = len(data[data.loc[:,i] >= 90 ]) / len(data)\n",
    "        up_90.append(up_90_rate)\n",
    "\n",
    "    between = []\n",
    "    for i in a_list:\n",
    "        between_rate = len(80 <= data[data.loc[:,i] < 90 ]) / len(data)\n",
    "        between.append(between_rate)\n",
    "\n",
    "    agree_lst = [down_60,between,up_90]\n",
    "    agree_df = pd.DataFrame(agree_lst)\n",
    "    return agree_df"
   ]
  },
  {
   "cell_type": "code",
   "execution_count": null,
   "id": "c832ec46",
   "metadata": {},
   "outputs": [],
   "source": []
  }
 ],
 "metadata": {
  "kernelspec": {
   "display_name": "Python 3",
   "language": "python",
   "name": "python3"
  },
  "language_info": {
   "codemirror_mode": {
    "name": "ipython",
    "version": 3
   },
   "file_extension": ".py",
   "mimetype": "text/x-python",
   "name": "python",
   "nbconvert_exporter": "python",
   "pygments_lexer": "ipython3",
   "version": "3.8.8"
  },
  "varInspector": {
   "cols": {
    "lenName": 16,
    "lenType": 16,
    "lenVar": 40
   },
   "kernels_config": {
    "python": {
     "delete_cmd_postfix": "",
     "delete_cmd_prefix": "del ",
     "library": "var_list.py",
     "varRefreshCmd": "print(var_dic_list())"
    },
    "r": {
     "delete_cmd_postfix": ") ",
     "delete_cmd_prefix": "rm(",
     "library": "var_list.r",
     "varRefreshCmd": "cat(var_dic_list()) "
    }
   },
   "types_to_exclude": [
    "module",
    "function",
    "builtin_function_or_method",
    "instance",
    "_Feature"
   ],
   "window_display": false
  }
 },
 "nbformat": 4,
 "nbformat_minor": 5
}
