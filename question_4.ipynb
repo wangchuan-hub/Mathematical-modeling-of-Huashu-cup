{
 "cells": [
  {
   "cell_type": "code",
   "execution_count": 1,
   "id": "d0c6f766",
   "metadata": {},
   "outputs": [],
   "source": [
    "import xgboost as xgb\n",
    "from sklearn.metrics import accuracy_score\n",
    "from sklearn import metrics\n",
    "from sklearn.metrics import precision_score\n",
    "from sklearn.metrics import recall_score\n",
    "from sklearn.metrics import f1_score\n",
    "import matplotlib.pyplot as plt"
   ]
  },
  {
   "cell_type": "code",
   "execution_count": 2,
   "id": "ef82ad8c",
   "metadata": {},
   "outputs": [],
   "source": [
    "def xgb_model(best_v1, best_v2, best_v3, best_v4):\n",
    "    \n",
    "    # 特征根据品牌不同调整\n",
    "    model_data = feature_data.loc[:,[\"a3\",\"B16\",\"B17\",\"购买意愿\"]] \n",
    "    model_data_y = model_data['购买意愿']\n",
    "    model_data_x = model_data.drop('购买意愿', axis=1)\n",
    "    X_train ,X_test ,y_train, y_test = train_test_split(model_data_x, model_data_y, test_size = 0.2, random_state = 20)\n",
    "    model = xgb.XGBClassifier(n_estimators = best_v1, eta = best_v2, max_depth = best_v3, min_child_weight = best_v4,\n",
    "                              objective=\"multi:softmax\", num_class=2, use_label_encoder = False)\n",
    "    model.fit(X_train, y_train)\n",
    "    \n",
    "    y_pred = model.predict(X_test)\n",
    "    roc_auc_score = metrics.roc_auc_score(y_test,y_pred)\n",
    "    accuracy_score = accuracy_score(y_test,y_pred)\n",
    "    recall_score = recall_score(y_test,y_pred)\n",
    "    f1_score = f1_score(y_test,y_pred)\n",
    "    \n",
    "    print(\"roc_auc_score:%.2f%%\"%(roc_auc_score*100.0))\n",
    "    print(\"accuracy_score:%.2f%%\"%(accuracy_score*100.0))\n",
    "    print(\"recall_score:%.2f%%\"%(recall_score*100.0))\n",
    "    print(\"f1_score:%.2f%%\"%(f1_score*100.0))"
   ]
  },
  {
   "cell_type": "code",
   "execution_count": 3,
   "id": "bff3f158",
   "metadata": {},
   "outputs": [
    {
     "data": {
      "application/javascript": [
       "\n",
       "        if (window._pyforest_update_imports_cell) { window._pyforest_update_imports_cell('import matplotlib.pyplot as plt'); }\n",
       "    "
      ],
      "text/plain": [
       "<IPython.core.display.Javascript object>"
      ]
     },
     "metadata": {},
     "output_type": "display_data"
    },
    {
     "data": {
      "application/javascript": [
       "\n",
       "        if (window._pyforest_update_imports_cell) { window._pyforest_update_imports_cell('import matplotlib.pyplot as plt'); }\n",
       "    "
      ],
      "text/plain": [
       "<IPython.core.display.Javascript object>"
      ]
     },
     "metadata": {},
     "output_type": "display_data"
    },
    {
     "data": {
      "application/javascript": [
       "\n",
       "        if (window._pyforest_update_imports_cell) { window._pyforest_update_imports_cell('import matplotlib.pyplot as plt'); }\n",
       "    "
      ],
      "text/plain": [
       "<IPython.core.display.Javascript object>"
      ]
     },
     "metadata": {},
     "output_type": "display_data"
    },
    {
     "data": {
      "application/javascript": [
       "\n",
       "        if (window._pyforest_update_imports_cell) { window._pyforest_update_imports_cell('import matplotlib.pyplot as plt'); }\n",
       "    "
      ],
      "text/plain": [
       "<IPython.core.display.Javascript object>"
      ]
     },
     "metadata": {},
     "output_type": "display_data"
    },
    {
     "data": {
      "application/javascript": [
       "\n",
       "        if (window._pyforest_update_imports_cell) { window._pyforest_update_imports_cell('import matplotlib.pyplot as plt'); }\n",
       "    "
      ],
      "text/plain": [
       "<IPython.core.display.Javascript object>"
      ]
     },
     "metadata": {},
     "output_type": "display_data"
    },
    {
     "data": {
      "application/javascript": [
       "\n",
       "        if (window._pyforest_update_imports_cell) { window._pyforest_update_imports_cell('import matplotlib.pyplot as plt'); }\n",
       "    "
      ],
      "text/plain": [
       "<IPython.core.display.Javascript object>"
      ]
     },
     "metadata": {},
     "output_type": "display_data"
    },
    {
     "data": {
      "application/javascript": [
       "\n",
       "        if (window._pyforest_update_imports_cell) { window._pyforest_update_imports_cell('import matplotlib.pyplot as plt'); }\n",
       "    "
      ],
      "text/plain": [
       "<IPython.core.display.Javascript object>"
      ]
     },
     "metadata": {},
     "output_type": "display_data"
    },
    {
     "data": {
      "application/javascript": [
       "\n",
       "        if (window._pyforest_update_imports_cell) { window._pyforest_update_imports_cell('import matplotlib.pyplot as plt'); }\n",
       "    "
      ],
      "text/plain": [
       "<IPython.core.display.Javascript object>"
      ]
     },
     "metadata": {},
     "output_type": "display_data"
    },
    {
     "data": {
      "application/javascript": [
       "\n",
       "        if (window._pyforest_update_imports_cell) { window._pyforest_update_imports_cell('import matplotlib.pyplot as plt'); }\n",
       "    "
      ],
      "text/plain": [
       "<IPython.core.display.Javascript object>"
      ]
     },
     "metadata": {},
     "output_type": "display_data"
    },
    {
     "data": {
      "image/png": "[encoded data removed]",
      "text/plain": [
       "<Figure size 432x288 with 1 Axes>"
      ]
     },
     "metadata": {
      "needs_background": "light"
     },
     "output_type": "display_data"
    }
   ],
   "source": [
    "plt.rcParams['font.sans-serif'] = ['SimHei'] \n",
    "plt.rcParams['axes.unicode_minus'] = False  \n",
    "barWidth = 0.22\n",
    "\n",
    "# 根据模型评分输入数据\n",
    "bars1 = [73.57,95.41,50,44.44]\n",
    "bars2 = [61.55,95.41,25,28.57]\n",
    "bars3 = [86.07,96.33,75,60]\n",
    "\n",
    "r1 = np.arange(len(bars1))\n",
    "r2 = [x + barWidth for x in r1]\n",
    "r3 = [x + barWidth for x in r2]\n",
    "plt.bar(r1, bars1, color='orange', width=barWidth, edgecolor='white', label='CP')\n",
    "plt.bar(r2, bars2, color='khaki', width=barWidth, edgecolor='white', label='Bayes')\n",
    "plt.bar(r3, bars3, color = \"seagreen\", width=barWidth, edgecolor=\"white\", label=\"Logistic\")\n",
    "plt.xticks([r + barWidth for r in range(len(bars1))], [\"auc_roc\",\"accuracy\",\"recall\",\"f1\"])\n",
    "plt.legend()\n",
    "plt.savefig(\"score_compare.jpg\",dpi=300)\n",
    "plt.show()"
   ]
  },
  {
   "cell_type": "code",
   "execution_count": null,
   "id": "9dfcf211",
   "metadata": {},
   "outputs": [],
   "source": []
  }
 ],
 "metadata": {
  "kernelspec": {
   "display_name": "Python 3",
   "language": "python",
   "name": "python3"
  },
  "language_info": {
   "codemirror_mode": {
    "name": "ipython",
    "version": 3
   },
   "file_extension": ".py",
   "mimetype": "text/x-python",
   "name": "python",
   "nbconvert_exporter": "python",
   "pygments_lexer": "ipython3",
   "version": "3.8.8"
  },
  "varInspector": {
   "cols": {
    "lenName": 16,
    "lenType": 16,
    "lenVar": 40
   },
   "kernels_config": {
    "python": {
     "delete_cmd_postfix": "",
     "delete_cmd_prefix": "del ",
     "library": "var_list.py",
     "varRefreshCmd": "print(var_dic_list())"
    },
    "r": {
     "delete_cmd_postfix": ") ",
     "delete_cmd_prefix": "rm(",
     "library": "var_list.r",
     "varRefreshCmd": "cat(var_dic_list()) "
    }
   },
   "types_to_exclude": [
    "module",
    "function",
    "builtin_function_or_method",
    "instance",
    "_Feature"
   ],
   "window_display": false
  }
 },
 "nbformat": 4,
 "nbformat_minor": 5
}
